{
 "cells": [
  {
   "cell_type": "code",
   "execution_count": null,
   "id": "b61c32e3-5aa0-4a9b-9336-4a6635fa888e",
   "metadata": {},
   "outputs": [],
   "source": [
    "import os\n",
    "import xarray as xr\n",
    "import hvplot.xarray\n",
    "import pandas as pd\n",
    "import panel as pn\n",
    "import intake"
   ]
  },
  {
   "cell_type": "code",
   "execution_count": null,
   "id": "6ae4af24-1b07-4190-9c89-cdab916a97f5",
   "metadata": {},
   "outputs": [],
   "source": [
    "Regs = ['gl', 'hn', 'tr', 'hs', 'as']\n",
    "Exps = ['DTC', 'BAMH', 'BAMH0']\n",
    "Stats = ['VIES', 'RMSE', 'MEAN']\n",
    "\n",
    "data = '20230216002023030300'"
   ]
  },
  {
   "cell_type": "code",
   "execution_count": null,
   "id": "d78de419-c065-4120-b4b3-9666dd842062",
   "metadata": {},
   "outputs": [],
   "source": [
    "catalog = intake.open_catalog('https://raw.githubusercontent.com/cfbastarz/panel_tests/main/catalog.yml')"
   ]
  },
  {
   "cell_type": "code",
   "execution_count": null,
   "id": "5fc60d89-ef56-4a61-8f96-ac774183b7bc",
   "metadata": {},
   "outputs": [],
   "source": [
    "Vars = list(ds1.variables)\n",
    "Vars.remove('time')\n",
    "Vars.remove('lat')\n",
    "Vars.remove('lon')\n",
    "\n",
    "variable_list = Vars\n",
    "variable = pn.widgets.Select(name='Variable', value=variable_list[0], options=variable_list)\n",
    "\n",
    "region = pn.widgets.Select(name='Region', value=Regs[0], options=Regs)\n",
    "experiment = pn.widgets.Select(name='Experiment', value=Exps[0], options=Exps)\n",
    "statistic = pn.widgets.Select(name='Statistic', value=Stats[0], options=Stats)\n",
    "\n",
    "test_list = ['ref_GFS', 'ref_Era5', 'ref_PAnl']\n",
    "test = pn.widgets.Select(name='Reference', value=test_list[0], options=test_list)\n",
    "\n",
    "@pn.depends(variable, region, experiment, statistic, test)\n",
    "def plotFields(variable, region, experiment, statistic, test):\n",
    "    if test == 'ref_GFS': ttest = 'T1'\n",
    "    if test == 'ref_Era5': ttest = 'T2'\n",
    "    if test == 'ref_PAnl': ttest = 'T3'\n",
    "    lfname = 'scantec_' + region.lower() + '_' + statistic.lower() + '_' + experiment.lower()\n",
    "    dfs = catalog[lfname].to_dask()\n",
    "    cmin=dfs[variable].min()\n",
    "    cmax=dfs[variable].max()\n",
    "    cmap='tab20c_r'\n",
    "    if region == 'as': \n",
    "        frame_width=500\n",
    "    else: \n",
    "        frame_width=960\n",
    "    ax = dfs[variable].hvplot(groupby='time', clim=(cmin, cmax), widget_type='scrubber', widget_location='bottom', \n",
    "                              frame_width=frame_width, cmap=cmap)\n",
    "    return pn.Column(ax, sizing_mode='stretch_width')\n",
    "\n",
    "card_parameters = pn.Card(variable, region, experiment, statistic, test, title='Parameters', collapsed=False)\n",
    "\n",
    "settings = pn.Column(card_parameters)\n",
    "\n",
    "pn.Column(\n",
    "    settings,\n",
    "    plotFields,\n",
    "    width_policy='max'\n",
    ")\n",
    "\n",
    "pn.template.FastListTemplate(\n",
    "    site=\"My Dashboard\", title=\"panel_tests\", sidebar=[settings],\n",
    "    main=[\"My test.\", plotFields], \n",
    ").show();"
   ]
  }
 ],
 "metadata": {
  "kernelspec": {
   "display_name": "Python 3 (ipykernel)",
   "language": "python",
   "name": "python3"
  },
  "language_info": {
   "codemirror_mode": {
    "name": "ipython",
    "version": 3
   },
   "file_extension": ".py",
   "mimetype": "text/x-python",
   "name": "python",
   "nbconvert_exporter": "python",
   "pygments_lexer": "ipython3",
   "version": "3.11.2"
  }
 },
 "nbformat": 4,
 "nbformat_minor": 5
}
